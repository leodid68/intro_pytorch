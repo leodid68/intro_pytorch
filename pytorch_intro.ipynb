{
 "cells": [
  {
   "cell_type": "code",
   "id": "initial_id",
   "metadata": {
    "collapsed": true,
    "ExecuteTime": {
     "end_time": "2025-07-21T11:12:31.922715Z",
     "start_time": "2025-07-21T11:12:31.920163Z"
    }
   },
   "source": [
    "import torch\n",
    "import numpy as np"
   ],
   "outputs": [],
   "execution_count": 106
  },
  {
   "metadata": {
    "ExecuteTime": {
     "end_time": "2025-07-21T11:12:31.935996Z",
     "start_time": "2025-07-21T11:12:31.933822Z"
    }
   },
   "cell_type": "code",
   "source": [
    "tensor_1 = torch.Tensor(\n",
    "    [\n",
    "        [[1, 2, 3], [5, 4, 7]],\n",
    "        [[4, 3, 8], [1, 8, 4]],\n",
    "        [[7, 1, 6], [8, 4, 4]]\n",
    "    ]\n",
    ")"
   ],
   "id": "8158c87d82d1153c",
   "outputs": [],
   "execution_count": 107
  },
  {
   "metadata": {
    "ExecuteTime": {
     "end_time": "2025-07-21T11:12:31.948392Z",
     "start_time": "2025-07-21T11:12:31.945338Z"
    }
   },
   "cell_type": "code",
   "source": "tensor_1",
   "id": "a3b195526ca93861",
   "outputs": [
    {
     "data": {
      "text/plain": [
       "tensor([[[1., 2., 3.],\n",
       "         [5., 4., 7.]],\n",
       "\n",
       "        [[4., 3., 8.],\n",
       "         [1., 8., 4.]],\n",
       "\n",
       "        [[7., 1., 6.],\n",
       "         [8., 4., 4.]]])"
      ]
     },
     "execution_count": 108,
     "metadata": {},
     "output_type": "execute_result"
    }
   ],
   "execution_count": 108
  },
  {
   "metadata": {
    "ExecuteTime": {
     "end_time": "2025-07-21T11:12:31.959295Z",
     "start_time": "2025-07-21T11:12:31.957378Z"
    }
   },
   "cell_type": "code",
   "source": "tensor_1.device",
   "id": "49b2409845d57672",
   "outputs": [
    {
     "data": {
      "text/plain": [
       "device(type='cpu')"
      ]
     },
     "execution_count": 109,
     "metadata": {},
     "output_type": "execute_result"
    }
   ],
   "execution_count": 109
  },
  {
   "metadata": {
    "ExecuteTime": {
     "end_time": "2025-07-21T11:12:31.976577Z",
     "start_time": "2025-07-21T11:12:31.975239Z"
    }
   },
   "cell_type": "code",
   "source": "# new_tensor = tensor_1.to('cpu') pas disponible sur MacOS",
   "id": "5f4a55f39083d9bf",
   "outputs": [],
   "execution_count": 110
  },
  {
   "metadata": {
    "ExecuteTime": {
     "end_time": "2025-07-21T11:12:31.992057Z",
     "start_time": "2025-07-21T11:12:31.990188Z"
    }
   },
   "cell_type": "code",
   "source": "tensor_1.shape",
   "id": "4c3a103c166ac9d5",
   "outputs": [
    {
     "data": {
      "text/plain": [
       "torch.Size([3, 2, 3])"
      ]
     },
     "execution_count": 111,
     "metadata": {},
     "output_type": "execute_result"
    }
   ],
   "execution_count": 111
  },
  {
   "metadata": {},
   "cell_type": "markdown",
   "source": [
    "`torch.Size([3, 2, 3])` represents the dimensions/shape of a 3-dimensional PyTorch tensor:\n",
    "\n",
    "- First dimension (3): The tensor has 3 layers/slices\n",
    "- Second dimension (2): Each layer has 2 rows\n",
    "- Third dimension (3): Each row has 3 elements\n",
    "\n",
    "So the tensor is organized as:\n",
    "- 3 layers\n",
    "- Each layer contains 2 rows\n",
    "- Each row contains 3 elements"
   ],
   "id": "b0f62492429339c2"
  },
  {
   "metadata": {
    "ExecuteTime": {
     "end_time": "2025-07-21T11:12:32.003175Z",
     "start_time": "2025-07-21T11:12:32.001603Z"
    }
   },
   "cell_type": "code",
   "source": [
    "print(\"shape[0] =\", tensor_1.shape[0])\n",
    "print(\"shape[1] =\", tensor_1.shape[1])\n",
    "print(\"shape[2] =\", tensor_1.shape[2])"
   ],
   "id": "9a922288bac0ab90",
   "outputs": [
    {
     "name": "stdout",
     "output_type": "stream",
     "text": [
      "shape[0] = 3\n",
      "shape[1] = 2\n",
      "shape[2] = 3\n"
     ]
    }
   ],
   "execution_count": 112
  },
  {
   "metadata": {},
   "cell_type": "markdown",
   "source": [
    "Dans notre tensor `tensor_1`, la forme (shape) est expliquée comme suit:\n",
    "\n",
    "- `shape[0] = 3` signifie que le tensor a 3 couches/matrices\n",
    "- `shape[1] = 2` signifie que chaque couche contient 2 lignes\n",
    "- `shape[2] = 3` signifie que chaque couche contient 2 valeurs\n",
    "Pour mieux visualiser cette structure, voici une cellule qui affiche les couches séparément:"
   ],
   "id": "5605dcea0c849c2"
  },
  {
   "metadata": {},
   "cell_type": "markdown",
   "source": [
    "Comme on peut le voir:\n",
    "- Il y a 3 couches (shape[0] = 3)\n",
    "- Chaque couche contient 2 lignes (shape[1] = 2)\n",
    "- Et chaque ligne contient 3 valeurs (shape[2] = 3)"
   ],
   "id": "dbd6c33ff45cfe25"
  },
  {
   "metadata": {
    "ExecuteTime": {
     "end_time": "2025-07-21T11:12:32.016149Z",
     "start_time": "2025-07-21T11:12:32.014599Z"
    }
   },
   "cell_type": "code",
   "source": [
    "print(\"Rank =\", len(tensor_1.shape))\n",
    "print(\"Number of elements =\", tensor_1.numel())"
   ],
   "id": "546f0d42707e111b",
   "outputs": [
    {
     "name": "stdout",
     "output_type": "stream",
     "text": [
      "Rank = 3\n",
      "Number of elements = 18\n"
     ]
    }
   ],
   "execution_count": 113
  },
  {
   "metadata": {},
   "cell_type": "markdown",
   "source": [
    "Le résultat s'explique simplement:\n",
    "\n",
    "- **Rank = 3**: Notre tenseur a 3 dimensions (c'est le nombre de crochets imbriqués `[[[...]]]`), donc son rang est 3\n",
    "- **Number of elements = 18**: C'est le produit des dimensions: 3 x 2 x 3 = 18\n",
    "  - 3 couches\n",
    "  - 2 lignes par couche\n",
    "  - 3 éléments par ligne\n",
    "  - Donc au total: 3 * 2 * 3 = 18 éléments dans le tenseur\n"
   ],
   "id": "45e8c6a64e0bf3e2"
  },
  {
   "metadata": {
    "ExecuteTime": {
     "end_time": "2025-07-21T11:12:32.032636Z",
     "start_time": "2025-07-21T11:12:32.030258Z"
    }
   },
   "cell_type": "code",
   "source": "tensor_1[0] # acceder a un tensor precis",
   "id": "26ffffc705673708",
   "outputs": [
    {
     "data": {
      "text/plain": [
       "tensor([[1., 2., 3.],\n",
       "        [5., 4., 7.]])"
      ]
     },
     "execution_count": 114,
     "metadata": {},
     "output_type": "execute_result"
    }
   ],
   "execution_count": 114
  },
  {
   "metadata": {
    "ExecuteTime": {
     "end_time": "2025-07-21T11:12:32.059703Z",
     "start_time": "2025-07-21T11:12:32.056951Z"
    }
   },
   "cell_type": "code",
   "source": [
    "tensor_1[0, 1, 0]\n",
    "tensor_1[1:2]\n",
    "tensor_1[2]"
   ],
   "id": "7023315f2be3d3e9",
   "outputs": [
    {
     "data": {
      "text/plain": [
       "tensor([[7., 1., 6.],\n",
       "        [8., 4., 4.]])"
      ]
     },
     "execution_count": 115,
     "metadata": {},
     "output_type": "execute_result"
    }
   ],
   "execution_count": 115
  },
  {
   "metadata": {},
   "cell_type": "markdown",
   "source": "Pour accéder à des éléments spécifiques d'un tenseur PyTorch, vous pouvez utiliser l'indexation. Voici les différentes façons :",
   "id": "9b0df8890011f118"
  },
  {
   "metadata": {},
   "cell_type": "markdown",
   "source": [
    "L'indexation fonctionne comme suit:\n",
    "- `tensor[i]`: accède à la i-ème couche\n",
    "- `tensor[i,j]`: accède à la j-ème ligne de la i-ème couche  \n",
    "- `tensor[i,j,k]`: accède à l'élément à la position (i,j,k)\n",
    "- `tensor[i:j]`: slice qui sélectionne les couches de i à j-1\n"
   ],
   "id": "bc9b116bd936f56c"
  },
  {
   "metadata": {
    "ExecuteTime": {
     "end_time": "2025-07-21T11:12:32.102988Z",
     "start_time": "2025-07-21T11:12:32.100526Z"
    }
   },
   "cell_type": "code",
   "source": "torch.ones(4, 2, 3) # 4 nb lot, 2 nb lignes, 3 nb valeurs torch.ones = 1",
   "id": "8d21c2673bad53da",
   "outputs": [
    {
     "data": {
      "text/plain": [
       "tensor([[[1., 1., 1.],\n",
       "         [1., 1., 1.]],\n",
       "\n",
       "        [[1., 1., 1.],\n",
       "         [1., 1., 1.]],\n",
       "\n",
       "        [[1., 1., 1.],\n",
       "         [1., 1., 1.]],\n",
       "\n",
       "        [[1., 1., 1.],\n",
       "         [1., 1., 1.]]])"
      ]
     },
     "execution_count": 116,
     "metadata": {},
     "output_type": "execute_result"
    }
   ],
   "execution_count": 116
  },
  {
   "metadata": {
    "ExecuteTime": {
     "end_time": "2025-07-21T11:12:32.132836Z",
     "start_time": "2025-07-21T11:12:32.130327Z"
    }
   },
   "cell_type": "code",
   "source": "torch.zeros(4, 2, 3) # same previous but with 0",
   "id": "d5a2c3b735a71d7b",
   "outputs": [
    {
     "data": {
      "text/plain": [
       "tensor([[[0., 0., 0.],\n",
       "         [0., 0., 0.]],\n",
       "\n",
       "        [[0., 0., 0.],\n",
       "         [0., 0., 0.]],\n",
       "\n",
       "        [[0., 0., 0.],\n",
       "         [0., 0., 0.]],\n",
       "\n",
       "        [[0., 0., 0.],\n",
       "         [0., 0., 0.]]])"
      ]
     },
     "execution_count": 117,
     "metadata": {},
     "output_type": "execute_result"
    }
   ],
   "execution_count": 117
  },
  {
   "metadata": {
    "ExecuteTime": {
     "end_time": "2025-07-21T11:12:32.143819Z",
     "start_time": "2025-07-21T11:12:32.141208Z"
    }
   },
   "cell_type": "code",
   "source": "torch.ones_like(tensor_1) # reprend shape tensor_1 avec 1 seulement via like",
   "id": "6e45c4fe7ca4513d",
   "outputs": [
    {
     "data": {
      "text/plain": [
       "tensor([[[1., 1., 1.],\n",
       "         [1., 1., 1.]],\n",
       "\n",
       "        [[1., 1., 1.],\n",
       "         [1., 1., 1.]],\n",
       "\n",
       "        [[1., 1., 1.],\n",
       "         [1., 1., 1.]]])"
      ]
     },
     "execution_count": 118,
     "metadata": {},
     "output_type": "execute_result"
    }
   ],
   "execution_count": 118
  },
  {
   "metadata": {
    "ExecuteTime": {
     "end_time": "2025-07-21T11:12:32.153736Z",
     "start_time": "2025-07-21T11:12:32.151662Z"
    }
   },
   "cell_type": "code",
   "source": "torch.zeros_like(tensor_1)",
   "id": "aed05011bfc59d77",
   "outputs": [
    {
     "data": {
      "text/plain": [
       "tensor([[[0., 0., 0.],\n",
       "         [0., 0., 0.]],\n",
       "\n",
       "        [[0., 0., 0.],\n",
       "         [0., 0., 0.]],\n",
       "\n",
       "        [[0., 0., 0.],\n",
       "         [0., 0., 0.]]])"
      ]
     },
     "execution_count": 119,
     "metadata": {},
     "output_type": "execute_result"
    }
   ],
   "execution_count": 119
  },
  {
   "metadata": {
    "ExecuteTime": {
     "end_time": "2025-07-21T11:12:32.168995Z",
     "start_time": "2025-07-21T11:12:32.166327Z"
    }
   },
   "cell_type": "code",
   "source": "torch.randn(2, 3 ,5)",
   "id": "7bcb99a2a72d8185",
   "outputs": [
    {
     "data": {
      "text/plain": [
       "tensor([[[ 0.3494,  0.8644,  0.8153, -0.0106, -1.3720],\n",
       "         [ 0.6143,  0.0051,  0.9567,  0.0178, -1.0133],\n",
       "         [-0.8733, -2.0999, -1.5151,  0.1248,  0.8042]],\n",
       "\n",
       "        [[-1.6620,  1.4787, -3.3398,  0.4656,  1.3256],\n",
       "         [-0.9545,  0.0884,  0.1998, -0.3490, -0.9207],\n",
       "         [-2.2086, -0.8180, -0.2373, -0.3553, -0.1711]]])"
      ]
     },
     "execution_count": 120,
     "metadata": {},
     "output_type": "execute_result"
    }
   ],
   "execution_count": 120
  },
  {
   "metadata": {
    "ExecuteTime": {
     "end_time": "2025-07-21T11:12:32.182354Z",
     "start_time": "2025-07-21T11:12:32.180058Z"
    }
   },
   "cell_type": "code",
   "source": "torch.rand_like(tensor_1)",
   "id": "7e0b5e1be7a220fa",
   "outputs": [
    {
     "data": {
      "text/plain": [
       "tensor([[[0.9062, 0.9338, 0.3255],\n",
       "         [0.5686, 0.2389, 0.2556]],\n",
       "\n",
       "        [[0.4454, 0.8843, 0.5334],\n",
       "         [0.7385, 0.2101, 0.7977]],\n",
       "\n",
       "        [[0.9585, 0.9066, 0.9895],\n",
       "         [0.1840, 0.2599, 0.4201]]])"
      ]
     },
     "execution_count": 121,
     "metadata": {},
     "output_type": "execute_result"
    }
   ],
   "execution_count": 121
  },
  {
   "metadata": {
    "ExecuteTime": {
     "end_time": "2025-07-21T11:12:32.190995Z",
     "start_time": "2025-07-21T11:12:32.188814Z"
    }
   },
   "cell_type": "code",
   "source": "torch.rand(2, 3 ,5, device='cpu')",
   "id": "70948cb9ad62bd72",
   "outputs": [
    {
     "data": {
      "text/plain": [
       "tensor([[[0.3271, 0.9386, 0.2212, 0.0015, 0.4428],\n",
       "         [0.6145, 0.0700, 0.8782, 0.0713, 0.8542],\n",
       "         [0.7221, 0.2118, 0.6146, 0.4210, 0.1671]],\n",
       "\n",
       "        [[0.3568, 0.9780, 0.7004, 0.7773, 0.7649],\n",
       "         [0.4950, 0.7340, 0.0710, 0.2750, 0.1926],\n",
       "         [0.3609, 0.0543, 0.5986, 0.0019, 0.4732]]])"
      ]
     },
     "execution_count": 122,
     "metadata": {},
     "output_type": "execute_result"
    }
   ],
   "execution_count": 122
  },
  {
   "metadata": {
    "ExecuteTime": {
     "end_time": "2025-07-21T11:12:32.199297Z",
     "start_time": "2025-07-21T11:12:32.197295Z"
    }
   },
   "cell_type": "code",
   "source": "tensor_1",
   "id": "eed192ef4c8645c6",
   "outputs": [
    {
     "data": {
      "text/plain": [
       "tensor([[[1., 2., 3.],\n",
       "         [5., 4., 7.]],\n",
       "\n",
       "        [[4., 3., 8.],\n",
       "         [1., 8., 4.]],\n",
       "\n",
       "        [[7., 1., 6.],\n",
       "         [8., 4., 4.]]])"
      ]
     },
     "execution_count": 123,
     "metadata": {},
     "output_type": "execute_result"
    }
   ],
   "execution_count": 123
  },
  {
   "metadata": {
    "ExecuteTime": {
     "end_time": "2025-07-21T11:12:32.210819Z",
     "start_time": "2025-07-21T11:12:32.208576Z"
    }
   },
   "cell_type": "code",
   "source": [
    "tensor_edit = (tensor_1 - 1) * 2\n",
    "tensor_edit"
   ],
   "id": "4e2d8a41b707ae23",
   "outputs": [
    {
     "data": {
      "text/plain": [
       "tensor([[[ 0.,  2.,  4.],\n",
       "         [ 8.,  6., 12.]],\n",
       "\n",
       "        [[ 6.,  4., 14.],\n",
       "         [ 0., 14.,  6.]],\n",
       "\n",
       "        [[12.,  0., 10.],\n",
       "         [14.,  6.,  6.]]])"
      ]
     },
     "execution_count": 124,
     "metadata": {},
     "output_type": "execute_result"
    }
   ],
   "execution_count": 124
  },
  {
   "metadata": {
    "ExecuteTime": {
     "end_time": "2025-07-21T11:12:32.219570Z",
     "start_time": "2025-07-21T11:12:32.217583Z"
    }
   },
   "cell_type": "code",
   "source": [
    "print(\"Mean:\", tensor_1.mean())\n",
    "print(\"Stdev: \", tensor_1.std())"
   ],
   "id": "d2be3707132c6ee5",
   "outputs": [
    {
     "name": "stdout",
     "output_type": "stream",
     "text": [
      "Mean: tensor(4.4444)\n",
      "Stdev:  tensor(2.4307)\n"
     ]
    }
   ],
   "execution_count": 125
  },
  {
   "metadata": {
    "ExecuteTime": {
     "end_time": "2025-07-21T11:12:32.228855Z",
     "start_time": "2025-07-21T11:12:32.226694Z"
    }
   },
   "cell_type": "code",
   "source": "tensor_1.mean(1) # mean dimension 1",
   "id": "2666d4697801d010",
   "outputs": [
    {
     "data": {
      "text/plain": [
       "tensor([[3.0000, 3.0000, 5.0000],\n",
       "        [2.5000, 5.5000, 6.0000],\n",
       "        [7.5000, 2.5000, 5.0000]])"
      ]
     },
     "execution_count": 126,
     "metadata": {},
     "output_type": "execute_result"
    }
   ],
   "execution_count": 126
  },
  {
   "metadata": {
    "ExecuteTime": {
     "end_time": "2025-07-21T11:12:32.257727Z",
     "start_time": "2025-07-21T11:12:32.256329Z"
    }
   },
   "cell_type": "code",
   "source": "import torch.nn as nn",
   "id": "f618409ba1217083",
   "outputs": [],
   "execution_count": 127
  },
  {
   "metadata": {
    "ExecuteTime": {
     "end_time": "2025-07-21T11:12:32.283603Z",
     "start_time": "2025-07-21T11:12:32.281911Z"
    }
   },
   "cell_type": "code",
   "source": [
    "linear = nn.Linear(10, 2)\n",
    "example_input = torch.randn(8, 10)"
   ],
   "id": "d11922247385ed3d",
   "outputs": [],
   "execution_count": 128
  },
  {
   "metadata": {
    "ExecuteTime": {
     "end_time": "2025-07-21T11:12:32.295927Z",
     "start_time": "2025-07-21T11:12:32.293641Z"
    }
   },
   "cell_type": "code",
   "source": "example_input",
   "id": "8b23dab63d201cc0",
   "outputs": [
    {
     "data": {
      "text/plain": [
       "tensor([[-2.2051,  0.2674,  0.3781, -1.2451,  0.1667,  1.5251,  0.3019, -2.2290,\n",
       "         -0.4814, -0.2293],\n",
       "        [-1.5956, -0.3460, -0.4435,  0.3425,  1.2652, -0.0120,  0.3418,  0.3230,\n",
       "          2.6629, -0.0492],\n",
       "        [-1.7680, -0.4319,  0.7675, -0.4919,  1.4065,  0.5956,  0.8353,  1.4992,\n",
       "          0.7363,  0.4763],\n",
       "        [-0.8357, -0.3124,  1.0507, -1.5102,  1.3204, -1.2812, -0.6702, -0.3847,\n",
       "         -0.0523,  1.8883],\n",
       "        [ 0.4629, -1.3002,  2.4384,  0.6510,  0.4541,  1.0741, -1.1369,  0.5594,\n",
       "         -0.0225,  0.0119],\n",
       "        [-0.7421,  0.0384,  0.9780,  0.6906,  0.6514, -0.0509,  1.2801, -0.7379,\n",
       "          0.5032,  0.8741],\n",
       "        [ 2.1027,  1.7619,  0.3265, -2.3665,  1.0622,  1.2155, -3.3445, -0.4638,\n",
       "          0.1355,  0.6326],\n",
       "        [-0.5763,  0.8958,  2.2230, -0.0866, -0.6375, -0.7388, -0.4615,  0.5599,\n",
       "         -0.4980,  0.6614]])"
      ]
     },
     "execution_count": 129,
     "metadata": {},
     "output_type": "execute_result"
    }
   ],
   "execution_count": 129
  },
  {
   "metadata": {
    "ExecuteTime": {
     "end_time": "2025-07-21T11:12:32.324923Z",
     "start_time": "2025-07-21T11:12:32.323431Z"
    }
   },
   "cell_type": "code",
   "source": "exemple_output = linear(example_input)",
   "id": "ec0fff07a0a9bd61",
   "outputs": [],
   "execution_count": 130
  },
  {
   "metadata": {
    "ExecuteTime": {
     "end_time": "2025-07-21T11:12:46.926002Z",
     "start_time": "2025-07-21T11:12:46.922085Z"
    }
   },
   "cell_type": "code",
   "source": "print(exemple_output)",
   "id": "4930d9519f0a4f75",
   "outputs": [
    {
     "name": "stdout",
     "output_type": "stream",
     "text": [
      "tensor([[ 1.0597, -0.1339],\n",
      "        [ 1.2756, -1.5828],\n",
      "        [ 0.6252, -1.8062],\n",
      "        [ 0.3906, -1.3659],\n",
      "        [-0.3220, -1.2232],\n",
      "        [ 1.2837, -0.4234],\n",
      "        [ 0.0811, -0.7438],\n",
      "        [-0.1561, -0.3580]], grad_fn=<AddmmBackward0>)\n"
     ]
    }
   ],
   "execution_count": 133
  },
  {
   "metadata": {
    "ExecuteTime": {
     "end_time": "2025-07-21T11:13:27.305314Z",
     "start_time": "2025-07-21T11:13:27.301146Z"
    }
   },
   "cell_type": "code",
   "source": [
    "relu = nn.ReLU()\n",
    "relu_output = relu(exemple_output)\n",
    "print(relu_output)"
   ],
   "id": "a3f932f4dfb8b69e",
   "outputs": [
    {
     "name": "stdout",
     "output_type": "stream",
     "text": [
      "tensor([[1.0597, 0.0000],\n",
      "        [1.2756, 0.0000],\n",
      "        [0.6252, 0.0000],\n",
      "        [0.3906, 0.0000],\n",
      "        [0.0000, 0.0000],\n",
      "        [1.2837, 0.0000],\n",
      "        [0.0811, 0.0000],\n",
      "        [0.0000, 0.0000]], grad_fn=<ReluBackward0>)\n"
     ]
    }
   ],
   "execution_count": 135
  },
  {
   "metadata": {
    "ExecuteTime": {
     "end_time": "2025-07-21T11:14:53.901114Z",
     "start_time": "2025-07-21T11:14:53.895567Z"
    }
   },
   "cell_type": "code",
   "source": [
    "batchnorm = nn.BatchNorm1d(2)\n",
    "batchnorm_output = batchnorm(relu_output)\n",
    "print(batchnorm_output)"
   ],
   "id": "27c0370cb31256c5",
   "outputs": [
    {
     "name": "stdout",
     "output_type": "stream",
     "text": [
      "tensor([[ 0.9032,  0.0000],\n",
      "        [ 1.3179,  0.0000],\n",
      "        [ 0.0687,  0.0000],\n",
      "        [-0.3820,  0.0000],\n",
      "        [-1.1323,  0.0000],\n",
      "        [ 1.3335,  0.0000],\n",
      "        [-0.9766,  0.0000],\n",
      "        [-1.1323,  0.0000]], grad_fn=<NativeBatchNormBackward0>)\n"
     ]
    }
   ],
   "execution_count": 137
  },
  {
   "metadata": {
    "ExecuteTime": {
     "end_time": "2025-07-21T11:16:03.821729Z",
     "start_time": "2025-07-21T11:16:03.819386Z"
    }
   },
   "cell_type": "code",
   "source": [
    "mlp_layers = nn.Sequential(\n",
    "    nn.Linear(5, 2),\n",
    "    nn.BatchNorm1d(2),\n",
    "    nn.ReLU(),\n",
    ")"
   ],
   "id": "d1b48d845dbff7aa",
   "outputs": [],
   "execution_count": 138
  },
  {
   "metadata": {
    "ExecuteTime": {
     "end_time": "2025-07-21T11:17:13.405143Z",
     "start_time": "2025-07-21T11:17:13.398871Z"
    }
   },
   "cell_type": "code",
   "source": [
    "test_example = torch.randn(5, 5) + 1\n",
    "print(\"Input:\")\n",
    "print(test_example)\n",
    "print(\"Output:\")\n",
    "print(mlp_layers(test_example))"
   ],
   "id": "a8406f84d8b1979d",
   "outputs": [
    {
     "name": "stdout",
     "output_type": "stream",
     "text": [
      "Input:\n",
      "tensor([[ 1.3184,  2.3107, -0.8534,  0.2868,  2.4706],\n",
      "        [ 2.1967,  2.0083, -0.4471,  2.6184, -2.6111],\n",
      "        [ 0.3873,  0.3814,  0.8839, -0.7964, -0.8461],\n",
      "        [ 2.1061,  2.9417,  3.5428,  0.6411, -0.9482],\n",
      "        [ 2.1812,  0.6491,  1.6579,  0.7018,  1.2200]])\n",
      "Output:\n",
      "tensor([[0.0000, 0.0000],\n",
      "        [0.0000, 1.8675],\n",
      "        [0.8662, 0.0000],\n",
      "        [0.6400, 0.0000],\n",
      "        [0.8664, 0.0000]], grad_fn=<ReluBackward0>)\n"
     ]
    }
   ],
   "execution_count": 139
  },
  {
   "metadata": {
    "ExecuteTime": {
     "end_time": "2025-07-21T11:18:30.625469Z",
     "start_time": "2025-07-21T11:18:30.034965Z"
    }
   },
   "cell_type": "code",
   "source": [
    "import torch.optim as optim\n",
    "adam_opt = optim.Adam(mlp_layers.parameters(), lr=1e-1)"
   ],
   "id": "4417bc8137f18d50",
   "outputs": [],
   "execution_count": 140
  },
  {
   "metadata": {
    "ExecuteTime": {
     "end_time": "2025-07-21T11:20:36.966217Z",
     "start_time": "2025-07-21T11:20:36.936499Z"
    }
   },
   "cell_type": "code",
   "source": [
    "train_example = torch.randn(100, 5) + 1\n",
    "adam_opt.zero_grad()\n",
    "\n",
    "cur_loss = torch.abs(1 - mlp_layers(train_example)).mean()\n",
    "\n",
    "cur_loss.backward()\n",
    "adam_opt.step()\n",
    "print(cur_loss)"
   ],
   "id": "2b7499e3c5dbc198",
   "outputs": [
    {
     "name": "stdout",
     "output_type": "stream",
     "text": [
      "tensor(0.7368, grad_fn=<MeanBackward0>)\n"
     ]
    }
   ],
   "execution_count": 142
  },
  {
   "metadata": {},
   "cell_type": "markdown",
   "source": [
    "Cette cellule effectue une étape d'entraînement d'un réseau de neurones MLP (Multi-Layer Perceptron). Voici le détail des opérations:\n",
    "\n",
    "1. `train_example = torch.randn(100, 5) + 1` \n",
    "   - Crée un tenseur d'entrée de 100 exemples avec 5 caractéristiques chacun\n",
    "   - Les valeurs sont aléatoires (distribution normale) + 1\n",
    "\n",
    "2. `adam_opt.zero_grad()`\n",
    "   - Réinitialise les gradients à zéro avant la passe arrière\n",
    "\n",
    "3. `cur_loss = torch.abs(1 - mlp_layers(train_example)).mean()`\n",
    "   - Calcule la perte (loss) en:\n",
    "     - Passant les données dans le MLP (`mlp_layers(train_example)`)\n",
    "     - Soustrait le résultat de 1\n",
    "     - Prend la valeur absolue\n",
    "     - Calcule la moyenne\n",
    "\n",
    "4. `cur_loss.backward()`\n",
    "   - Calcule les gradients par rétropropagation\n",
    "\n",
    "5. `adam_opt.step()`\n",
    "   - Met à jour les poids du réseau en utilisant l'optimiseur Adam"
   ],
   "id": "2390ff8c568d24a3"
  },
  {
   "metadata": {},
   "cell_type": "markdown",
   "source": [
    "Cette cellule fait partie d'une boucle d'entraînement typique en deep learning:\n",
    "1. Forward pass (propagation avant)\n",
    "2. Calcul de la perte\n",
    "3. Backward pass (rétropropagation)\n",
    "4. Mise à jour des poids\n",
    "\n",
    "L'objectif est d'ajuster les paramètres du réseau pour que sa sortie se rapproche de 1 pour les données d'entrée.\n"
   ],
   "id": "7553b079ddd75265"
  },
  {
   "metadata": {
    "ExecuteTime": {
     "end_time": "2025-07-21T11:25:59.659687Z",
     "start_time": "2025-07-21T11:25:59.654351Z"
    }
   },
   "cell_type": "code",
   "source": [
    "test_leo = torch.randn(100, 5) + 1 # creer base test\n",
    "\n",
    "adam_opt.zero_grad() # remettre les gradients à 0\n",
    "\n",
    "cur_loss = torch.abs(1 - mlp_layers(test_leo)).mean() # calculer la moyenne de la perte .abs pour valeur absolue,\n",
    "\n",
    "cur_loss.backward()\n",
    "\n",
    "adam_opt.step()"
   ],
   "id": "30eaaf9fa40b9cb3",
   "outputs": [],
   "execution_count": 144
  },
  {
   "metadata": {
    "ExecuteTime": {
     "end_time": "2025-07-21T11:26:50.345048Z",
     "start_time": "2025-07-21T11:26:50.339659Z"
    }
   },
   "cell_type": "code",
   "source": "print(mlp_layers(test_leo))",
   "id": "75694a097532c34f",
   "outputs": [
    {
     "name": "stdout",
     "output_type": "stream",
     "text": [
      "tensor([[0.0000, 0.1830],\n",
      "        [0.5243, 0.2590],\n",
      "        [0.0000, 0.0000],\n",
      "        [0.3276, 0.6477],\n",
      "        [0.0000, 0.0000],\n",
      "        [0.0000, 0.9575],\n",
      "        [1.2655, 0.0000],\n",
      "        [0.0000, 1.1881],\n",
      "        [1.0796, 0.0000],\n",
      "        [0.0000, 0.4401],\n",
      "        [0.1781, 0.0341],\n",
      "        [0.2317, 0.0000],\n",
      "        [0.1566, 0.0000],\n",
      "        [1.4588, 0.0000],\n",
      "        [0.0000, 0.0000],\n",
      "        [0.2393, 0.0000],\n",
      "        [0.0000, 0.4881],\n",
      "        [0.0489, 0.0000],\n",
      "        [0.0566, 1.9528],\n",
      "        [1.5021, 0.0000],\n",
      "        [0.0463, 0.0000],\n",
      "        [0.4627, 0.0000],\n",
      "        [0.2252, 0.9024],\n",
      "        [1.9774, 0.0000],\n",
      "        [0.0000, 0.8230],\n",
      "        [1.1288, 0.0000],\n",
      "        [0.9166, 0.0000],\n",
      "        [0.1731, 0.3542],\n",
      "        [0.0413, 0.0000],\n",
      "        [0.0000, 1.0121],\n",
      "        [0.4455, 0.3047],\n",
      "        [0.1134, 0.0000],\n",
      "        [0.0000, 1.0086],\n",
      "        [0.8958, 0.7062],\n",
      "        [0.0000, 0.0000],\n",
      "        [0.0000, 0.2057],\n",
      "        [0.9673, 0.1911],\n",
      "        [0.0000, 1.2249],\n",
      "        [0.0896, 0.1381],\n",
      "        [0.0000, 0.8916],\n",
      "        [1.0685, 0.0219],\n",
      "        [0.6267, 0.2740],\n",
      "        [0.0000, 0.0000],\n",
      "        [0.2838, 0.1532],\n",
      "        [0.0000, 0.8276],\n",
      "        [0.0000, 1.3385],\n",
      "        [0.0000, 0.0000],\n",
      "        [0.0000, 0.6806],\n",
      "        [0.5169, 0.0000],\n",
      "        [0.0000, 0.7121],\n",
      "        [0.0967, 0.0000],\n",
      "        [0.0000, 0.0000],\n",
      "        [0.4325, 0.0000],\n",
      "        [1.6056, 0.0000],\n",
      "        [0.6529, 0.0000],\n",
      "        [0.2743, 0.0809],\n",
      "        [0.7441, 0.0000],\n",
      "        [0.0000, 0.2871],\n",
      "        [0.2793, 0.0000],\n",
      "        [0.1426, 0.0000],\n",
      "        [0.0000, 0.4279],\n",
      "        [0.0531, 0.0595],\n",
      "        [0.0000, 0.0000],\n",
      "        [0.7917, 0.0687],\n",
      "        [0.0000, 0.3850],\n",
      "        [0.0000, 0.4694],\n",
      "        [0.2635, 0.0000],\n",
      "        [0.0000, 0.6767],\n",
      "        [0.7303, 0.0000],\n",
      "        [0.0281, 0.0000],\n",
      "        [0.1309, 0.0000],\n",
      "        [0.7257, 0.0000],\n",
      "        [0.0000, 0.3627],\n",
      "        [0.0000, 0.0000],\n",
      "        [0.8869, 0.8597],\n",
      "        [0.0000, 0.6180],\n",
      "        [0.0000, 0.8761],\n",
      "        [0.0000, 0.5439],\n",
      "        [0.3692, 0.7897],\n",
      "        [0.0000, 0.0000],\n",
      "        [0.9427, 0.0000],\n",
      "        [0.8482, 0.0000],\n",
      "        [0.3340, 0.0057],\n",
      "        [0.0000, 1.3075],\n",
      "        [0.0000, 1.7122],\n",
      "        [0.6566, 0.2043],\n",
      "        [0.2858, 0.1864],\n",
      "        [0.0144, 0.0727],\n",
      "        [0.0000, 0.5172],\n",
      "        [1.1320, 0.0000],\n",
      "        [0.0000, 0.0526],\n",
      "        [0.0000, 0.9947],\n",
      "        [0.0000, 0.0296],\n",
      "        [0.6961, 0.5345],\n",
      "        [0.0000, 0.0000],\n",
      "        [0.0000, 0.8882],\n",
      "        [0.0000, 0.0000],\n",
      "        [0.0000, 0.0000],\n",
      "        [0.0000, 0.1144],\n",
      "        [1.3564, 0.6121]], grad_fn=<ReluBackward0>)\n"
     ]
    }
   ],
   "execution_count": 148
  },
  {
   "metadata": {
    "ExecuteTime": {
     "end_time": "2025-07-21T11:27:11.014160Z",
     "start_time": "2025-07-21T11:27:11.007606Z"
    }
   },
   "cell_type": "code",
   "source": "list(mlp_layers.parameters())",
   "id": "7ecdd021e78047ec",
   "outputs": [
    {
     "data": {
      "text/plain": [
       "[Parameter containing:\n",
       " tensor([[ 0.0582, -0.4204, -0.0171, -0.0495,  0.2783],\n",
       "         [-0.1141,  0.4752, -0.5387,  0.1279, -0.0122]], requires_grad=True),\n",
       " Parameter containing:\n",
       " tensor([-0.2993, -0.1011], requires_grad=True),\n",
       " Parameter containing:\n",
       " tensor([0.7473, 0.7460], requires_grad=True),\n",
       " Parameter containing:\n",
       " tensor([0.0412, 0.0507], requires_grad=True)]"
      ]
     },
     "execution_count": 149,
     "metadata": {},
     "output_type": "execute_result"
    }
   ],
   "execution_count": 149
  }
 ],
 "metadata": {
  "kernelspec": {
   "display_name": "Python 3",
   "language": "python",
   "name": "python3"
  },
  "language_info": {
   "codemirror_mode": {
    "name": "ipython",
    "version": 2
   },
   "file_extension": ".py",
   "mimetype": "text/x-python",
   "name": "python",
   "nbconvert_exporter": "python",
   "pygments_lexer": "ipython2",
   "version": "2.7.6"
  }
 },
 "nbformat": 4,
 "nbformat_minor": 5
}
